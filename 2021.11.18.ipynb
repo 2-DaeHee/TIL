#TIL
#pandas & seaborn 수업 자료 복습


#pandas & numpy import
import pandas as pd
import numpy as np


#DataFrame 형성
df = pd.DataFrame()

#pandas


